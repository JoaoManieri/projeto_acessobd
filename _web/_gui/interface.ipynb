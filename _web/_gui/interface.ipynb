{
 "cells": [
  {
   "cell_type": "code",
   "execution_count": 4,
   "id": "17f828ca",
   "metadata": {},
   "outputs": [],
   "source": [
    "import requests\n",
    "from tkinter import *"
   ]
  },
  {
   "cell_type": "markdown",
   "id": "45778dea",
   "metadata": {},
   "source": [
    "criar janela principal"
   ]
  },
  {
   "cell_type": "code",
   "execution_count": 31,
   "id": "b0a1fa84",
   "metadata": {},
   "outputs": [],
   "source": [
    "janela = Tk()\n",
    "\n",
    "#titulo\n",
    "janela.title(\"acesso a bd\")\n",
    "\n",
    "texto_orientacao = Label(janela, text = \"clique no botao para iniciar\")\n",
    "texto_orientacao.grid(column=0,row=0, padx=10, pady=10)\n",
    "\n",
    "botao = Button(janela,text = \"clique\", command = acao)\n",
    "botao.grid(column=0,row=1,padx=10, pady=10)\n",
    "\n",
    "entrada = Entry(janela, bd = 5)\n",
    "entrada.grid(column=2,row=1,)\n",
    "\n",
    "texto_saida = Label(janela, text=\"\")\n",
    "texto_saida.grid(column=0,row=2, padx=10, pady=10)\n",
    "\n",
    "janela.mainloop() #permite que a janela fique em loop na tela"
   ]
  },
  {
   "cell_type": "code",
   "execution_count": 30,
   "id": "faad23f0",
   "metadata": {},
   "outputs": [],
   "source": [
    "def acao ():\n",
    "    \n",
    "    texto_saida[\"text\"] = entrada.get()"
   ]
  }
 ],
 "metadata": {
  "kernelspec": {
   "display_name": "Python 3",
   "language": "python",
   "name": "python3"
  },
  "language_info": {
   "codemirror_mode": {
    "name": "ipython",
    "version": 3
   },
   "file_extension": ".py",
   "mimetype": "text/x-python",
   "name": "python",
   "nbconvert_exporter": "python",
   "pygments_lexer": "ipython3",
   "version": "3.8.8"
  }
 },
 "nbformat": 4,
 "nbformat_minor": 5
}
