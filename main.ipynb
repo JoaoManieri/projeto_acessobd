{
 "cells": [
  {
   "cell_type": "code",
   "execution_count": 1,
   "id": "ed0a5f10",
   "metadata": {},
   "outputs": [],
   "source": [
    "import mysql.connector\n",
    "import requests\n",
    "import pandas as pd\n",
    "from tkinter import *\n",
    "#import pdfkit as pdf\n",
    "import os\n",
    "import webbrowser"
   ]
  },
  {
   "cell_type": "code",
   "execution_count": null,
   "id": "201dae67",
   "metadata": {},
   "outputs": [],
   "source": []
  },
  {
   "cell_type": "code",
   "execution_count": null,
   "id": "73bf86ac",
   "metadata": {},
   "outputs": [],
   "source": []
  },
  {
   "cell_type": "code",
   "execution_count": 2,
   "id": "d9d5ab1c",
   "metadata": {},
   "outputs": [],
   "source": [
    "def add_montadora():\n",
    "    \n",
    "    query_INPUT_MONTADORA_ID = INPUT_MONTADORA_ID.get()\n",
    "    query_INPUT_MONTADORA_NOME = INPUT_MONTADORA_NOME.get()\n",
    "    \n",
    "    check1 = verifica_id(query_INPUT_MONTADORA_ID,'MONTADORA_ID', 'montadoras')\n",
    "\n",
    "    check2 = verifica_nome(query_INPUT_MONTADORA_NOME,'MONTADORA_NOME','montadoras')\n",
    "    print(check1)\n",
    "    print(check2)\n",
    "    if (check1 == 1 and check2 == 1):\n",
    "        query = \"insert into montadoras values(\" + query_INPUT_MONTADORA_ID +\"\"\",'\"\"\"+query_INPUT_MONTADORA_NOME+\"');\"\n",
    "\n",
    "        cursor.execute(query)\n",
    "        con_.commit()\n",
    "        \n",
    "        end = Tk()\n",
    "        \n",
    "        mensagem = Label(end,text = \"Montadora incluida com sussexo!!!\")\n",
    "        mensagem.grid(column=0,row=0,padx=10, pady=10)\n",
    "        \n",
    "        end.mainloop() \n",
    "        \n",
    "    else:\n",
    "        warning = Tk()\n",
    "        \n",
    "        mensagem_aviso = Label(warning,text = \"Não foi possivel inserir montadora pois ID ou Nome ja existem!\")\n",
    "        mensagem_aviso.grid(column=0,row=0,padx=10, pady=10)\n",
    "        \n",
    "        warning.mainloop() "
   ]
  },
  {
   "cell_type": "code",
   "execution_count": 3,
   "id": "fdf8828d",
   "metadata": {},
   "outputs": [],
   "source": [
    "def rmv_montadora():\n",
    "    \n",
    "    query_INPUT_MONTADORA_ID = INPUT_MONTADORA_ID.get()\n",
    "    query_INPUT_MONTADORA_NOME = INPUT_MONTADORA_NOME.get()\n",
    "    \n",
    "    query = \"\"\"DELETE FROM montadoras WHERE MONTADORA_ID =\"\"\"+query_INPUT_MONTADORA_ID+ \";\"\n",
    "    \n",
    "    cursor.execute(query)\n",
    "    con_.commit()\n",
    "    \n",
    "    texto_saida[\"text\"] = query"
   ]
  },
  {
   "cell_type": "code",
   "execution_count": 4,
   "id": "04057b61",
   "metadata": {},
   "outputs": [],
   "source": [
    "def add_veiculo():\n",
    "    \n",
    "    query_INPUT_VEICULO_ID = INPUT_VEICULO_ID.get()\n",
    "    query_INPUT_VEICULO_NOME = INPUT_VEICULO_NOME.get()\n",
    "    query_INPUT_VEICULO_MONTADORA_ID = INPUT_VEICULO_MONTADORA_ID.get()\n",
    "    \n",
    "    query = \"insert into veiculos values(\" + query_INPUT_VEICULO_ID +\"\"\",'\"\"\"+query_INPUT_VEICULO_NOME+\"\"\"',\"\"\"+query_INPUT_VEICULO_MONTADORA_ID+\");\"\n",
    "    \n",
    "    cursor.execute(query)\n",
    "    con_.commit()\n",
    "    \n",
    "    texto_saida[\"text\"] = query"
   ]
  },
  {
   "cell_type": "code",
   "execution_count": 5,
   "id": "bd76b197",
   "metadata": {},
   "outputs": [],
   "source": [
    "def rmv_veiculo():\n",
    "    \n",
    "    query_INPUT_VEICULO_ID = INPUT_VEICULO_ID.get()\n",
    "    query_INPUT_VEICULO_NOME = INPUT_VEICULO_NOME.get()\n",
    "    query_INPUT_VEICULO_MONTADORA_ID = INPUT_VEICULO_MONTADORA_ID.get()\n",
    "    \n",
    "    query = \"\"\"DELETE FROM veiculos WHERE VEICULO_ID =\"\"\"+query_INPUT_VEICULO_ID+ \";\"\n",
    "\n",
    "    cursor.execute(query)\n",
    "    con_.commit()\n",
    "    \n",
    "    texto_saida[\"text\"] = query"
   ]
  },
  {
   "cell_type": "code",
   "execution_count": 6,
   "id": "54c2e083",
   "metadata": {},
   "outputs": [],
   "source": [
    "def gera_relatorio():\n",
    "    df = pd.read_sql( \"\"\"select * from veiculos inner join montadoras on veiculos.MONTADORA_ID = montadoras.MONTADORA_ID;\"\"\", con = con_)\n",
    "    df = df.drop(columns=['MONTADORA_ID'])\n",
    "    df.to_html('RELATORIO.html')\n",
    "    #pdf.from_url('RELATORIO.html', 'Relatorio.pdf')\n",
    "    webbrowser.open('RELATORIO.html', new= 2)"
   ]
  },
  {
   "cell_type": "code",
   "execution_count": 7,
   "id": "902da5e7",
   "metadata": {},
   "outputs": [],
   "source": [
    "def verifica_id(ID,coluna,tabela):\n",
    "     \n",
    "    df = pd.read_sql( \"\"\"select * from \"\"\"+ tabela +\"\"\";\"\"\", con = con_)\n",
    "    lista_id = df[coluna]\n",
    "    for i in range (len(lista_id)):\n",
    "        if lista_id[i] == int(ID):\n",
    "            return 0\n",
    "    return 1"
   ]
  },
  {
   "cell_type": "code",
   "execution_count": 8,
   "id": "312e2869",
   "metadata": {},
   "outputs": [],
   "source": [
    "def verifica_nome(NOME,coluna,tabela):\n",
    "    df = pd.read_sql( \"\"\"select * from \"\"\"+ tabela +\"\"\";\"\"\", con = con_)\n",
    "    lista_nome = df[coluna]\n",
    "    for i in range (len(lista_nome)):\n",
    "        if lista_nome[i] == str(NOME):\n",
    "            return 0\n",
    "    return 1"
   ]
  },
  {
   "cell_type": "code",
   "execution_count": 9,
   "id": "ba790f64",
   "metadata": {},
   "outputs": [
    {
     "name": "stdout",
     "output_type": "stream",
     "text": [
      "conectado\n"
     ]
    }
   ],
   "source": [
    "con_ = mysql.connector.connect(host='localhost',database='car_table',user='root',password='MANIeri281298')\n",
    "if con_.is_connected():\n",
    "    cursor = con_.cursor()\n",
    "    print('conectado')"
   ]
  },
  {
   "cell_type": "code",
   "execution_count": 10,
   "id": "6dd4ead1",
   "metadata": {},
   "outputs": [
    {
     "name": "stdout",
     "output_type": "stream",
     "text": [
      "1\n",
      "0\n",
      "1\n",
      "1\n"
     ]
    }
   ],
   "source": [
    "janela = Tk()\n",
    "\n",
    "#titulo\n",
    "janela.title(\"acesso a bd\")\n",
    "\n",
    "\n",
    "grid_00 = Label(janela, text = \"\")\n",
    "grid_00.grid(column=0,row=0, padx=10, pady=10)\n",
    "\n",
    "grid_10 = Label(janela, text = \"TECNOMOTOR\")\n",
    "grid_10.grid(column=1,row=0, padx=10, pady=10)\n",
    "\n",
    "grid_20 = Label(janela, text = \"status BD:\")\n",
    "grid_20.grid(column=2,row=0, padx=10, pady=10)\n",
    "\n",
    "grid_30 = Label(janela, text = \"\")\n",
    "grid_30.grid(column=3,row=0, padx=10, pady=10)\n",
    "\n",
    "if con_.is_connected():\n",
    "    grid_30[\"text\"] = \"conectado\"\n",
    "else:\n",
    "    grid_30[\"text\"] = \"desconectado\"\n",
    "\n",
    "\n",
    "#montadora\n",
    "ADD_MONTADORA_LABEL = Label(janela,text = \"Montadora\")\n",
    "ADD_MONTADORA_LABEL.grid(column=0,row=1,padx=10, pady=10)\n",
    "\n",
    "\n",
    "MONTADORA_ID = Label(janela,text = \"MONTADORA_ID\")\n",
    "MONTADORA_ID.grid(column=0,row=2, padx=10, pady=10)\n",
    "\n",
    "MONTADORA_NOME = Label(janela,text = \"MONTADORA_NOME\")\n",
    "MONTADORA_NOME.grid(column=1,row=2, padx=10, pady=10)\n",
    "\n",
    "\n",
    "INPUT_MONTADORA_ID = Entry(janela, bd = 5)\n",
    "INPUT_MONTADORA_ID.grid(column=0,row=3,padx=10, pady=10)\n",
    "\n",
    "INPUT_MONTADORA_NOME = Entry(janela, bd = 5)\n",
    "INPUT_MONTADORA_NOME.grid(column=1,row=3,padx=10, pady=10)\n",
    "\n",
    "BTN_ADD_MONTADORA = Button(janela,text = \"Add Montadora\", command = add_montadora)\n",
    "BTN_ADD_MONTADORA.grid(column=2,row=3,padx=10, pady=10)\n",
    "\n",
    "BTN_RMV_MONTADORA = Button(janela,text = \"Rmv Montadora\", command = rmv_montadora)\n",
    "BTN_RMV_MONTADORA.grid(column=3,row=3,padx=10, pady=10)\n",
    "\n",
    "#Veiculo\n",
    "VEICULO_LABEL = Label(janela,text = \"Veiculo\")\n",
    "VEICULO_LABEL.grid(column=0,row=4,padx=10, pady=10)\n",
    "\n",
    "\n",
    "VEICULO_ID = Label(janela,text = \"VEICULO_ID\")\n",
    "VEICULO_ID.grid(column=0,row=5, padx=10, pady=10)\n",
    "\n",
    "VEICULO_NOME = Label(janela,text = \"VEICULO_NOME\")\n",
    "VEICULO_NOME.grid(column=1,row=5, padx=10, pady=10)\n",
    "\n",
    "VEICULO_MONTADORA_ID = Label(janela,text = \"MONTADORA_ID\")\n",
    "VEICULO_MONTADORA_ID.grid(column=2,row=5, padx=10, pady=10)\n",
    "\n",
    "\n",
    "\n",
    "INPUT_VEICULO_ID = Entry(janela, bd = 5)\n",
    "INPUT_VEICULO_ID.grid(column=0,row=6,padx=10, pady=10)\n",
    "\n",
    "INPUT_VEICULO_NOME = Entry(janela, bd = 5)\n",
    "INPUT_VEICULO_NOME.grid(column=1,row=6,padx=10, pady=10)\n",
    "\n",
    "INPUT_VEICULO_MONTADORA_ID = Entry(janela, bd = 5)\n",
    "INPUT_VEICULO_MONTADORA_ID.grid(column=2,row=6,padx=10, pady=10)\n",
    "\n",
    "BTN_ADD_VEICULO = Button(janela,text = \"Add Veiculos\", command = add_veiculo)\n",
    "BTN_ADD_VEICULO.grid(column=3,row=6,padx=10, pady=10)\n",
    "\n",
    "BTN_RMV_VEICULO = Button(janela,text = \"Rmv Veiculos\", command = rmv_veiculo)\n",
    "BTN_RMV_VEICULO.grid(column=4,row=6,padx=10, pady=10)\n",
    "\n",
    "texto_saida = Label(janela, text=\"\")\n",
    "texto_saida.grid(column=0,row=7, padx=10, pady=10)\n",
    "\n",
    "BTN_RELATORIO = Button(janela,text = \"Gerar Relatorio\", command = gera_relatorio)\n",
    "BTN_RELATORIO.grid(column=0,row=8,padx=10, pady=10)\n",
    "\n",
    "janela.mainloop() #permite que a janela fique em loop na tela"
   ]
  },
  {
   "cell_type": "code",
   "execution_count": 124,
   "id": "4cdb77b0",
   "metadata": {},
   "outputs": [],
   "source": []
  },
  {
   "cell_type": "code",
   "execution_count": 189,
   "id": "ca4f2ea8",
   "metadata": {},
   "outputs": [
    {
     "name": "stdout",
     "output_type": "stream",
     "text": [
      "retorna 0\n"
     ]
    },
    {
     "ename": "KeyError",
     "evalue": "2",
     "output_type": "error",
     "traceback": [
      "\u001b[1;31m---------------------------------------------------------------------------\u001b[0m",
      "\u001b[1;31mValueError\u001b[0m                                Traceback (most recent call last)",
      "\u001b[1;32mC:\\ProgramData\\Anaconda3\\lib\\site-packages\\pandas\\core\\indexes\\range.py\u001b[0m in \u001b[0;36mget_loc\u001b[1;34m(self, key, method, tolerance)\u001b[0m\n\u001b[0;32m    350\u001b[0m                 \u001b[1;32mtry\u001b[0m\u001b[1;33m:\u001b[0m\u001b[1;33m\u001b[0m\u001b[1;33m\u001b[0m\u001b[0m\n\u001b[1;32m--> 351\u001b[1;33m                     \u001b[1;32mreturn\u001b[0m \u001b[0mself\u001b[0m\u001b[1;33m.\u001b[0m\u001b[0m_range\u001b[0m\u001b[1;33m.\u001b[0m\u001b[0mindex\u001b[0m\u001b[1;33m(\u001b[0m\u001b[0mnew_key\u001b[0m\u001b[1;33m)\u001b[0m\u001b[1;33m\u001b[0m\u001b[1;33m\u001b[0m\u001b[0m\n\u001b[0m\u001b[0;32m    352\u001b[0m                 \u001b[1;32mexcept\u001b[0m \u001b[0mValueError\u001b[0m \u001b[1;32mas\u001b[0m \u001b[0merr\u001b[0m\u001b[1;33m:\u001b[0m\u001b[1;33m\u001b[0m\u001b[1;33m\u001b[0m\u001b[0m\n",
      "\u001b[1;31mValueError\u001b[0m: 2 is not in range",
      "\nThe above exception was the direct cause of the following exception:\n",
      "\u001b[1;31mKeyError\u001b[0m                                  Traceback (most recent call last)",
      "\u001b[1;32m<ipython-input-189-0f7ddd070187>\u001b[0m in \u001b[0;36m<module>\u001b[1;34m\u001b[0m\n\u001b[0;32m      2\u001b[0m \u001b[0mlista_nome\u001b[0m \u001b[1;33m=\u001b[0m \u001b[0mdf\u001b[0m\u001b[1;33m[\u001b[0m\u001b[1;34m'MONTADORA_ID'\u001b[0m\u001b[1;33m]\u001b[0m\u001b[1;33m\u001b[0m\u001b[1;33m\u001b[0m\u001b[0m\n\u001b[0;32m      3\u001b[0m \u001b[1;32mfor\u001b[0m \u001b[0mi\u001b[0m \u001b[1;32min\u001b[0m \u001b[0mrange\u001b[0m \u001b[1;33m(\u001b[0m\u001b[0mlen\u001b[0m\u001b[1;33m(\u001b[0m\u001b[0mlista_nome\u001b[0m\u001b[1;33m)\u001b[0m\u001b[1;33m)\u001b[0m\u001b[1;33m:\u001b[0m\u001b[1;33m\u001b[0m\u001b[1;33m\u001b[0m\u001b[0m\n\u001b[1;32m----> 4\u001b[1;33m     \u001b[1;32mif\u001b[0m \u001b[0mlista_id\u001b[0m\u001b[1;33m[\u001b[0m\u001b[0mi\u001b[0m\u001b[1;33m]\u001b[0m \u001b[1;33m==\u001b[0m \u001b[0mint\u001b[0m\u001b[1;33m(\u001b[0m\u001b[1;34m\"90\"\u001b[0m\u001b[1;33m)\u001b[0m\u001b[1;33m:\u001b[0m\u001b[1;33m\u001b[0m\u001b[1;33m\u001b[0m\u001b[0m\n\u001b[0m\u001b[0;32m      5\u001b[0m         \u001b[0mprint\u001b[0m \u001b[1;33m(\u001b[0m\u001b[1;34m\"retorna 0\"\u001b[0m\u001b[1;33m)\u001b[0m\u001b[1;33m\u001b[0m\u001b[1;33m\u001b[0m\u001b[0m\n\u001b[0;32m      6\u001b[0m \u001b[0mprint\u001b[0m \u001b[1;33m(\u001b[0m\u001b[1;34m\"retorna 1\"\u001b[0m\u001b[1;33m)\u001b[0m\u001b[1;33m\u001b[0m\u001b[1;33m\u001b[0m\u001b[0m\n",
      "\u001b[1;32mC:\\ProgramData\\Anaconda3\\lib\\site-packages\\pandas\\core\\series.py\u001b[0m in \u001b[0;36m__getitem__\u001b[1;34m(self, key)\u001b[0m\n\u001b[0;32m    851\u001b[0m \u001b[1;33m\u001b[0m\u001b[0m\n\u001b[0;32m    852\u001b[0m         \u001b[1;32melif\u001b[0m \u001b[0mkey_is_scalar\u001b[0m\u001b[1;33m:\u001b[0m\u001b[1;33m\u001b[0m\u001b[1;33m\u001b[0m\u001b[0m\n\u001b[1;32m--> 853\u001b[1;33m             \u001b[1;32mreturn\u001b[0m \u001b[0mself\u001b[0m\u001b[1;33m.\u001b[0m\u001b[0m_get_value\u001b[0m\u001b[1;33m(\u001b[0m\u001b[0mkey\u001b[0m\u001b[1;33m)\u001b[0m\u001b[1;33m\u001b[0m\u001b[1;33m\u001b[0m\u001b[0m\n\u001b[0m\u001b[0;32m    854\u001b[0m \u001b[1;33m\u001b[0m\u001b[0m\n\u001b[0;32m    855\u001b[0m         \u001b[1;32mif\u001b[0m \u001b[0mis_hashable\u001b[0m\u001b[1;33m(\u001b[0m\u001b[0mkey\u001b[0m\u001b[1;33m)\u001b[0m\u001b[1;33m:\u001b[0m\u001b[1;33m\u001b[0m\u001b[1;33m\u001b[0m\u001b[0m\n",
      "\u001b[1;32mC:\\ProgramData\\Anaconda3\\lib\\site-packages\\pandas\\core\\series.py\u001b[0m in \u001b[0;36m_get_value\u001b[1;34m(self, label, takeable)\u001b[0m\n\u001b[0;32m    959\u001b[0m \u001b[1;33m\u001b[0m\u001b[0m\n\u001b[0;32m    960\u001b[0m         \u001b[1;31m# Similar to Index.get_value, but we do not fall back to positional\u001b[0m\u001b[1;33m\u001b[0m\u001b[1;33m\u001b[0m\u001b[1;33m\u001b[0m\u001b[0m\n\u001b[1;32m--> 961\u001b[1;33m         \u001b[0mloc\u001b[0m \u001b[1;33m=\u001b[0m \u001b[0mself\u001b[0m\u001b[1;33m.\u001b[0m\u001b[0mindex\u001b[0m\u001b[1;33m.\u001b[0m\u001b[0mget_loc\u001b[0m\u001b[1;33m(\u001b[0m\u001b[0mlabel\u001b[0m\u001b[1;33m)\u001b[0m\u001b[1;33m\u001b[0m\u001b[1;33m\u001b[0m\u001b[0m\n\u001b[0m\u001b[0;32m    962\u001b[0m         \u001b[1;32mreturn\u001b[0m \u001b[0mself\u001b[0m\u001b[1;33m.\u001b[0m\u001b[0mindex\u001b[0m\u001b[1;33m.\u001b[0m\u001b[0m_get_values_for_loc\u001b[0m\u001b[1;33m(\u001b[0m\u001b[0mself\u001b[0m\u001b[1;33m,\u001b[0m \u001b[0mloc\u001b[0m\u001b[1;33m,\u001b[0m \u001b[0mlabel\u001b[0m\u001b[1;33m)\u001b[0m\u001b[1;33m\u001b[0m\u001b[1;33m\u001b[0m\u001b[0m\n\u001b[0;32m    963\u001b[0m \u001b[1;33m\u001b[0m\u001b[0m\n",
      "\u001b[1;32mC:\\ProgramData\\Anaconda3\\lib\\site-packages\\pandas\\core\\indexes\\range.py\u001b[0m in \u001b[0;36mget_loc\u001b[1;34m(self, key, method, tolerance)\u001b[0m\n\u001b[0;32m    351\u001b[0m                     \u001b[1;32mreturn\u001b[0m \u001b[0mself\u001b[0m\u001b[1;33m.\u001b[0m\u001b[0m_range\u001b[0m\u001b[1;33m.\u001b[0m\u001b[0mindex\u001b[0m\u001b[1;33m(\u001b[0m\u001b[0mnew_key\u001b[0m\u001b[1;33m)\u001b[0m\u001b[1;33m\u001b[0m\u001b[1;33m\u001b[0m\u001b[0m\n\u001b[0;32m    352\u001b[0m                 \u001b[1;32mexcept\u001b[0m \u001b[0mValueError\u001b[0m \u001b[1;32mas\u001b[0m \u001b[0merr\u001b[0m\u001b[1;33m:\u001b[0m\u001b[1;33m\u001b[0m\u001b[1;33m\u001b[0m\u001b[0m\n\u001b[1;32m--> 353\u001b[1;33m                     \u001b[1;32mraise\u001b[0m \u001b[0mKeyError\u001b[0m\u001b[1;33m(\u001b[0m\u001b[0mkey\u001b[0m\u001b[1;33m)\u001b[0m \u001b[1;32mfrom\u001b[0m \u001b[0merr\u001b[0m\u001b[1;33m\u001b[0m\u001b[1;33m\u001b[0m\u001b[0m\n\u001b[0m\u001b[0;32m    354\u001b[0m             \u001b[1;32mraise\u001b[0m \u001b[0mKeyError\u001b[0m\u001b[1;33m(\u001b[0m\u001b[0mkey\u001b[0m\u001b[1;33m)\u001b[0m\u001b[1;33m\u001b[0m\u001b[1;33m\u001b[0m\u001b[0m\n\u001b[0;32m    355\u001b[0m         \u001b[1;32mreturn\u001b[0m \u001b[0msuper\u001b[0m\u001b[1;33m(\u001b[0m\u001b[1;33m)\u001b[0m\u001b[1;33m.\u001b[0m\u001b[0mget_loc\u001b[0m\u001b[1;33m(\u001b[0m\u001b[0mkey\u001b[0m\u001b[1;33m,\u001b[0m \u001b[0mmethod\u001b[0m\u001b[1;33m=\u001b[0m\u001b[0mmethod\u001b[0m\u001b[1;33m,\u001b[0m \u001b[0mtolerance\u001b[0m\u001b[1;33m=\u001b[0m\u001b[0mtolerance\u001b[0m\u001b[1;33m)\u001b[0m\u001b[1;33m\u001b[0m\u001b[1;33m\u001b[0m\u001b[0m\n",
      "\u001b[1;31mKeyError\u001b[0m: 2"
     ]
    }
   ],
   "source": [
    "df = pd.read_sql( \"\"\"select * from \"\"\"+ \"montadoras\" +\"\"\";\"\"\", con = con_)\n",
    "lista_nome = df['MONTADORA_ID']\n",
    "for i in range (len(lista_nome)):\n",
    "    if lista_id[i] == int(\"90\"):\n",
    "        print (\"retorna 0\")\n",
    "print (\"retorna 1\")"
   ]
  },
  {
   "cell_type": "code",
   "execution_count": 196,
   "id": "46c0a8ae",
   "metadata": {},
   "outputs": [
    {
     "name": "stdout",
     "output_type": "stream",
     "text": [
      "KIA\n",
      "1\n"
     ]
    }
   ],
   "source": [
    "df = pd.read_sql( \"\"\"select * from \"\"\"+ 'montadoras' +\"\"\";\"\"\", con = con_)\n",
    "lista_nome = df[\"MONTADORA_NOME\"]\n",
    "for i in range (len(lista_nome)):\n",
    "    if lista_nome[i] == \"KIA\":\n",
    "        print(lista_nome[i]) \n",
    "print(\"1\") "
   ]
  },
  {
   "cell_type": "code",
   "execution_count": 197,
   "id": "be6a55da",
   "metadata": {},
   "outputs": [
    {
     "name": "stdout",
     "output_type": "stream",
     "text": [
      "MERCEDES\n",
      "MERCEDASAS\n",
      "MERCEDAS BENZ\n",
      "KIA\n",
      "VW\n"
     ]
    }
   ],
   "source": [
    "for i in range (len(lista_nome)):\n",
    "    print(lista_nome[i])"
   ]
  },
  {
   "cell_type": "code",
   "execution_count": 190,
   "id": "8008357e",
   "metadata": {},
   "outputs": [
    {
     "data": {
      "text/html": [
       "<div>\n",
       "<style scoped>\n",
       "    .dataframe tbody tr th:only-of-type {\n",
       "        vertical-align: middle;\n",
       "    }\n",
       "\n",
       "    .dataframe tbody tr th {\n",
       "        vertical-align: top;\n",
       "    }\n",
       "\n",
       "    .dataframe thead th {\n",
       "        text-align: right;\n",
       "    }\n",
       "</style>\n",
       "<table border=\"1\" class=\"dataframe\">\n",
       "  <thead>\n",
       "    <tr style=\"text-align: right;\">\n",
       "      <th></th>\n",
       "      <th>MONTADORA_ID</th>\n",
       "      <th>MONTADORA_NOME</th>\n",
       "    </tr>\n",
       "  </thead>\n",
       "  <tbody>\n",
       "    <tr>\n",
       "      <th>0</th>\n",
       "      <td>25</td>\n",
       "      <td>MERCEDES</td>\n",
       "    </tr>\n",
       "    <tr>\n",
       "      <th>1</th>\n",
       "      <td>90</td>\n",
       "      <td>KIA</td>\n",
       "    </tr>\n",
       "    <tr>\n",
       "      <th>2</th>\n",
       "      <td>99</td>\n",
       "      <td>VW</td>\n",
       "    </tr>\n",
       "  </tbody>\n",
       "</table>\n",
       "</div>"
      ],
      "text/plain": [
       "   MONTADORA_ID MONTADORA_NOME\n",
       "0            25       MERCEDES\n",
       "1            90            KIA\n",
       "2            99             VW"
      ]
     },
     "execution_count": 190,
     "metadata": {},
     "output_type": "execute_result"
    }
   ],
   "source": [
    "df"
   ]
  },
  {
   "cell_type": "code",
   "execution_count": null,
   "id": "564aa459",
   "metadata": {},
   "outputs": [],
   "source": []
  },
  {
   "cell_type": "code",
   "execution_count": null,
   "id": "961afdb7",
   "metadata": {},
   "outputs": [],
   "source": []
  },
  {
   "cell_type": "code",
   "execution_count": null,
   "id": "33326146",
   "metadata": {},
   "outputs": [],
   "source": []
  },
  {
   "cell_type": "code",
   "execution_count": null,
   "id": "80526ec1",
   "metadata": {},
   "outputs": [],
   "source": []
  },
  {
   "cell_type": "code",
   "execution_count": null,
   "id": "061e6873",
   "metadata": {},
   "outputs": [],
   "source": []
  },
  {
   "cell_type": "code",
   "execution_count": null,
   "id": "52884a94",
   "metadata": {},
   "outputs": [],
   "source": []
  },
  {
   "cell_type": "code",
   "execution_count": null,
   "id": "ae5795ee",
   "metadata": {},
   "outputs": [],
   "source": []
  },
  {
   "cell_type": "code",
   "execution_count": null,
   "id": "be3b8344",
   "metadata": {},
   "outputs": [],
   "source": []
  },
  {
   "cell_type": "code",
   "execution_count": null,
   "id": "7db34c18",
   "metadata": {},
   "outputs": [],
   "source": []
  }
 ],
 "metadata": {
  "kernelspec": {
   "display_name": "Python 3",
   "language": "python",
   "name": "python3"
  },
  "language_info": {
   "codemirror_mode": {
    "name": "ipython",
    "version": 3
   },
   "file_extension": ".py",
   "mimetype": "text/x-python",
   "name": "python",
   "nbconvert_exporter": "python",
   "pygments_lexer": "ipython3",
   "version": "3.8.8"
  }
 },
 "nbformat": 4,
 "nbformat_minor": 5
}
